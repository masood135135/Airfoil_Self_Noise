{
 "cells": [
  {
   "cell_type": "code",
   "execution_count": 134,
   "metadata": {},
   "outputs": [
    {
     "name": "stderr",
     "output_type": "stream",
     "text": [
      "C:\\Users\\masood135\\Anaconda3\\lib\\site-packages\\h5py\\__init__.py:36: FutureWarning: Conversion of the second argument of issubdtype from `float` to `np.floating` is deprecated. In future, it will be treated as `np.float64 == np.dtype(float).type`.\n",
      "  from ._conv import register_converters as _register_converters\n"
     ]
    }
   ],
   "source": [
    "%matplotlib inline\n",
    "import pandas as pd\n",
    "import matplotlib.pyplot as plt\n",
    "import numpy as np\n",
    "import sklearn\n",
    "import seaborn as sns\n",
    "import tensorflow as tf\n",
    "from sklearn import preprocessing\n",
    "from sklearn.preprocessing import StandardScaler"
   ]
  },
  {
   "cell_type": "code",
   "execution_count": 2,
   "metadata": {},
   "outputs": [],
   "source": [
    "airfoil_df=pd.read_csv('airfoil_self_noise.csv', names=['Frequency','AoA', 'Chord','Velocity','Displacement','SPL'])"
   ]
  },
  {
   "cell_type": "code",
   "execution_count": 3,
   "metadata": {},
   "outputs": [
    {
     "data": {
      "text/plain": [
       "(1503, 6)"
      ]
     },
     "execution_count": 3,
     "metadata": {},
     "output_type": "execute_result"
    }
   ],
   "source": [
    "airfoil_df.shape"
   ]
  },
  {
   "cell_type": "code",
   "execution_count": 4,
   "metadata": {},
   "outputs": [
    {
     "data": {
      "text/html": [
       "<div>\n",
       "<style scoped>\n",
       "    .dataframe tbody tr th:only-of-type {\n",
       "        vertical-align: middle;\n",
       "    }\n",
       "\n",
       "    .dataframe tbody tr th {\n",
       "        vertical-align: top;\n",
       "    }\n",
       "\n",
       "    .dataframe thead th {\n",
       "        text-align: right;\n",
       "    }\n",
       "</style>\n",
       "<table border=\"1\" class=\"dataframe\">\n",
       "  <thead>\n",
       "    <tr style=\"text-align: right;\">\n",
       "      <th></th>\n",
       "      <th>Frequency</th>\n",
       "      <th>AoA</th>\n",
       "      <th>Chord</th>\n",
       "      <th>Velocity</th>\n",
       "      <th>Displacement</th>\n",
       "      <th>SPL</th>\n",
       "    </tr>\n",
       "  </thead>\n",
       "  <tbody>\n",
       "    <tr>\n",
       "      <th>0</th>\n",
       "      <td>800</td>\n",
       "      <td>0.0</td>\n",
       "      <td>0.3048</td>\n",
       "      <td>71.3</td>\n",
       "      <td>0.002663</td>\n",
       "      <td>126.201</td>\n",
       "    </tr>\n",
       "    <tr>\n",
       "      <th>1</th>\n",
       "      <td>1000</td>\n",
       "      <td>0.0</td>\n",
       "      <td>0.3048</td>\n",
       "      <td>71.3</td>\n",
       "      <td>0.002663</td>\n",
       "      <td>125.201</td>\n",
       "    </tr>\n",
       "    <tr>\n",
       "      <th>2</th>\n",
       "      <td>1250</td>\n",
       "      <td>0.0</td>\n",
       "      <td>0.3048</td>\n",
       "      <td>71.3</td>\n",
       "      <td>0.002663</td>\n",
       "      <td>125.951</td>\n",
       "    </tr>\n",
       "    <tr>\n",
       "      <th>3</th>\n",
       "      <td>1600</td>\n",
       "      <td>0.0</td>\n",
       "      <td>0.3048</td>\n",
       "      <td>71.3</td>\n",
       "      <td>0.002663</td>\n",
       "      <td>127.591</td>\n",
       "    </tr>\n",
       "    <tr>\n",
       "      <th>4</th>\n",
       "      <td>2000</td>\n",
       "      <td>0.0</td>\n",
       "      <td>0.3048</td>\n",
       "      <td>71.3</td>\n",
       "      <td>0.002663</td>\n",
       "      <td>127.461</td>\n",
       "    </tr>\n",
       "  </tbody>\n",
       "</table>\n",
       "</div>"
      ],
      "text/plain": [
       "   Frequency  AoA   Chord  Velocity  Displacement      SPL\n",
       "0        800  0.0  0.3048      71.3      0.002663  126.201\n",
       "1       1000  0.0  0.3048      71.3      0.002663  125.201\n",
       "2       1250  0.0  0.3048      71.3      0.002663  125.951\n",
       "3       1600  0.0  0.3048      71.3      0.002663  127.591\n",
       "4       2000  0.0  0.3048      71.3      0.002663  127.461"
      ]
     },
     "execution_count": 4,
     "metadata": {},
     "output_type": "execute_result"
    }
   ],
   "source": [
    "airfoil_df.head()"
   ]
  },
  {
   "cell_type": "code",
   "execution_count": 6,
   "metadata": {},
   "outputs": [
    {
     "data": {
      "text/html": [
       "<div>\n",
       "<style scoped>\n",
       "    .dataframe tbody tr th:only-of-type {\n",
       "        vertical-align: middle;\n",
       "    }\n",
       "\n",
       "    .dataframe tbody tr th {\n",
       "        vertical-align: top;\n",
       "    }\n",
       "\n",
       "    .dataframe thead th {\n",
       "        text-align: right;\n",
       "    }\n",
       "</style>\n",
       "<table border=\"1\" class=\"dataframe\">\n",
       "  <thead>\n",
       "    <tr style=\"text-align: right;\">\n",
       "      <th></th>\n",
       "      <th>Frequency</th>\n",
       "      <th>AoA</th>\n",
       "      <th>Chord</th>\n",
       "      <th>Velocity</th>\n",
       "      <th>Displacement</th>\n",
       "      <th>SPL</th>\n",
       "    </tr>\n",
       "  </thead>\n",
       "  <tbody>\n",
       "    <tr>\n",
       "      <th>count</th>\n",
       "      <td>1503.000000</td>\n",
       "      <td>1503.000000</td>\n",
       "      <td>1503.000000</td>\n",
       "      <td>1503.000000</td>\n",
       "      <td>1503.000000</td>\n",
       "      <td>1503.000000</td>\n",
       "    </tr>\n",
       "    <tr>\n",
       "      <th>mean</th>\n",
       "      <td>2886.380572</td>\n",
       "      <td>6.782302</td>\n",
       "      <td>0.136548</td>\n",
       "      <td>50.860745</td>\n",
       "      <td>0.011140</td>\n",
       "      <td>124.835943</td>\n",
       "    </tr>\n",
       "    <tr>\n",
       "      <th>std</th>\n",
       "      <td>3152.573137</td>\n",
       "      <td>5.918128</td>\n",
       "      <td>0.093541</td>\n",
       "      <td>15.572784</td>\n",
       "      <td>0.013150</td>\n",
       "      <td>6.898657</td>\n",
       "    </tr>\n",
       "    <tr>\n",
       "      <th>min</th>\n",
       "      <td>200.000000</td>\n",
       "      <td>0.000000</td>\n",
       "      <td>0.025400</td>\n",
       "      <td>31.700000</td>\n",
       "      <td>0.000401</td>\n",
       "      <td>103.380000</td>\n",
       "    </tr>\n",
       "    <tr>\n",
       "      <th>25%</th>\n",
       "      <td>800.000000</td>\n",
       "      <td>2.000000</td>\n",
       "      <td>0.050800</td>\n",
       "      <td>39.600000</td>\n",
       "      <td>0.002535</td>\n",
       "      <td>120.191000</td>\n",
       "    </tr>\n",
       "    <tr>\n",
       "      <th>50%</th>\n",
       "      <td>1600.000000</td>\n",
       "      <td>5.400000</td>\n",
       "      <td>0.101600</td>\n",
       "      <td>39.600000</td>\n",
       "      <td>0.004957</td>\n",
       "      <td>125.721000</td>\n",
       "    </tr>\n",
       "    <tr>\n",
       "      <th>75%</th>\n",
       "      <td>4000.000000</td>\n",
       "      <td>9.900000</td>\n",
       "      <td>0.228600</td>\n",
       "      <td>71.300000</td>\n",
       "      <td>0.015576</td>\n",
       "      <td>129.995500</td>\n",
       "    </tr>\n",
       "    <tr>\n",
       "      <th>max</th>\n",
       "      <td>20000.000000</td>\n",
       "      <td>22.200000</td>\n",
       "      <td>0.304800</td>\n",
       "      <td>71.300000</td>\n",
       "      <td>0.058411</td>\n",
       "      <td>140.987000</td>\n",
       "    </tr>\n",
       "  </tbody>\n",
       "</table>\n",
       "</div>"
      ],
      "text/plain": [
       "          Frequency          AoA        Chord     Velocity  Displacement  \\\n",
       "count   1503.000000  1503.000000  1503.000000  1503.000000   1503.000000   \n",
       "mean    2886.380572     6.782302     0.136548    50.860745      0.011140   \n",
       "std     3152.573137     5.918128     0.093541    15.572784      0.013150   \n",
       "min      200.000000     0.000000     0.025400    31.700000      0.000401   \n",
       "25%      800.000000     2.000000     0.050800    39.600000      0.002535   \n",
       "50%     1600.000000     5.400000     0.101600    39.600000      0.004957   \n",
       "75%     4000.000000     9.900000     0.228600    71.300000      0.015576   \n",
       "max    20000.000000    22.200000     0.304800    71.300000      0.058411   \n",
       "\n",
       "               SPL  \n",
       "count  1503.000000  \n",
       "mean    124.835943  \n",
       "std       6.898657  \n",
       "min     103.380000  \n",
       "25%     120.191000  \n",
       "50%     125.721000  \n",
       "75%     129.995500  \n",
       "max     140.987000  "
      ]
     },
     "execution_count": 6,
     "metadata": {},
     "output_type": "execute_result"
    }
   ],
   "source": [
    "airfoil_df.describe()"
   ]
  },
  {
   "cell_type": "code",
   "execution_count": 114,
   "metadata": {},
   "outputs": [
    {
     "data": {
      "text/plain": [
       "Text(0,0.5,'Sound Pressure Level')"
      ]
     },
     "execution_count": 114,
     "metadata": {},
     "output_type": "execute_result"
    },
    {
     "data": {
      "image/png": "[encoded data removed]",
      "text/plain": [
       "<matplotlib.figure.Figure at 0x1e9df538240>"
      ]
     },
     "metadata": {},
     "output_type": "display_data"
    }
   ],
   "source": [
    "plt.figure(figsize=(16,8))\n",
    "plt.subplot(1,2,1)\n",
    "plt.scatter(airfoil_df['Velocity'], airfoil_df['SPL'])\n",
    "plt.xlabel('Velocity')\n",
    "plt.ylabel('Sound Pressure Level')\n",
    "plt.subplot(1,2,2)\n",
    "plt.scatter(airfoil_df['AoA'], airfoil_df['SPL'])\n",
    "plt.xlabel('Angle of Attack')\n",
    "plt.ylabel('Sound Pressure Level')\n"
   ]
  },
  {
   "cell_type": "code",
   "execution_count": 121,
   "metadata": {},
   "outputs": [
    {
     "data": {
      "text/plain": [
       "Text(0,0.5,'Sound Pressure Level')"
      ]
     },
     "execution_count": 121,
     "metadata": {},
     "output_type": "execute_result"
    },
    {
     "data": {
      "image/png": "[encoded data removed]",
      "text/plain": [
       "<matplotlib.figure.Figure at 0x1e9df2e5f28>"
      ]
     },
     "metadata": {},
     "output_type": "display_data"
    }
   ],
   "source": [
    "plt.figure()\n",
    "plt.scatter(airfoil_df['Frequency'], airfoil_df['SPL'])\n",
    "plt.xlabel('Frequency')\n",
    "plt.ylabel('Sound Pressure Level')"
   ]
  },
  {
   "cell_type": "code",
   "execution_count": 126,
   "metadata": {},
   "outputs": [],
   "source": [
    "Fre_10000=airfoil_df[airfoil_df['Frequency']==10000]"
   ]
  },
  {
   "cell_type": "code",
   "execution_count": 127,
   "metadata": {},
   "outputs": [
    {
     "data": {
      "text/plain": [
       "Text(0,0.5,'Sound Pressure Level')"
      ]
     },
     "execution_count": 127,
     "metadata": {},
     "output_type": "execute_result"
    },
    {
     "data": {
      "image/png": "[encoded data removed]",
      "text/plain": [
       "<matplotlib.figure.Figure at 0x1e9dfffcf98>"
      ]
     },
     "metadata": {},
     "output_type": "display_data"
    }
   ],
   "source": [
    "plt.figure(figsize=(16,8))\n",
    "plt.subplot(1,2,1)\n",
    "plt.scatter(Fre_10000['Velocity'], Fre_10000['SPL'])\n",
    "plt.xlabel('Velocity')\n",
    "plt.ylabel('Sound Pressure Level')\n",
    "plt.subplot(1,2,2)\n",
    "plt.scatter(Fre_10000['AoA'], Fre_10000['SPL'])\n",
    "plt.xlabel('Angle of Attack')\n",
    "plt.ylabel('Sound Pressure Level')"
   ]
  },
  {
   "cell_type": "code",
   "execution_count": 133,
   "metadata": {},
   "outputs": [
    {
     "data": {
      "text/html": [
       "<div>\n",
       "<style scoped>\n",
       "    .dataframe tbody tr th:only-of-type {\n",
       "        vertical-align: middle;\n",
       "    }\n",
       "\n",
       "    .dataframe tbody tr th {\n",
       "        vertical-align: top;\n",
       "    }\n",
       "\n",
       "    .dataframe thead th {\n",
       "        text-align: right;\n",
       "    }\n",
       "</style>\n",
       "<table border=\"1\" class=\"dataframe\">\n",
       "  <thead>\n",
       "    <tr style=\"text-align: right;\">\n",
       "      <th></th>\n",
       "      <th>Frequency</th>\n",
       "      <th>AoA</th>\n",
       "      <th>Chord</th>\n",
       "      <th>Velocity</th>\n",
       "      <th>Displacement</th>\n",
       "      <th>SPL</th>\n",
       "    </tr>\n",
       "  </thead>\n",
       "  <tbody>\n",
       "    <tr>\n",
       "      <th>11</th>\n",
       "      <td>10000</td>\n",
       "      <td>0.0</td>\n",
       "      <td>0.3048</td>\n",
       "      <td>71.3</td>\n",
       "      <td>0.002663</td>\n",
       "      <td>115.391</td>\n",
       "    </tr>\n",
       "    <tr>\n",
       "      <th>77</th>\n",
       "      <td>10000</td>\n",
       "      <td>1.5</td>\n",
       "      <td>0.3048</td>\n",
       "      <td>71.3</td>\n",
       "      <td>0.003367</td>\n",
       "      <td>113.492</td>\n",
       "    </tr>\n",
       "    <tr>\n",
       "      <th>111</th>\n",
       "      <td>10000</td>\n",
       "      <td>3.0</td>\n",
       "      <td>0.3048</td>\n",
       "      <td>71.3</td>\n",
       "      <td>0.004257</td>\n",
       "      <td>110.224</td>\n",
       "    </tr>\n",
       "    <tr>\n",
       "      <th>172</th>\n",
       "      <td>10000</td>\n",
       "      <td>4.0</td>\n",
       "      <td>0.3048</td>\n",
       "      <td>71.3</td>\n",
       "      <td>0.004978</td>\n",
       "      <td>110.905</td>\n",
       "    </tr>\n",
       "    <tr>\n",
       "      <th>197</th>\n",
       "      <td>10000</td>\n",
       "      <td>0.0</td>\n",
       "      <td>0.2286</td>\n",
       "      <td>71.3</td>\n",
       "      <td>0.002143</td>\n",
       "      <td>118.134</td>\n",
       "    </tr>\n",
       "    <tr>\n",
       "      <th>257</th>\n",
       "      <td>10000</td>\n",
       "      <td>2.0</td>\n",
       "      <td>0.2286</td>\n",
       "      <td>71.3</td>\n",
       "      <td>0.002930</td>\n",
       "      <td>113.086</td>\n",
       "    </tr>\n",
       "    <tr>\n",
       "      <th>312</th>\n",
       "      <td>10000</td>\n",
       "      <td>4.0</td>\n",
       "      <td>0.2286</td>\n",
       "      <td>71.3</td>\n",
       "      <td>0.004006</td>\n",
       "      <td>113.108</td>\n",
       "    </tr>\n",
       "    <tr>\n",
       "      <th>374</th>\n",
       "      <td>10000</td>\n",
       "      <td>5.3</td>\n",
       "      <td>0.2286</td>\n",
       "      <td>71.3</td>\n",
       "      <td>0.005194</td>\n",
       "      <td>111.350</td>\n",
       "    </tr>\n",
       "    <tr>\n",
       "      <th>465</th>\n",
       "      <td>10000</td>\n",
       "      <td>0.0</td>\n",
       "      <td>0.1524</td>\n",
       "      <td>71.3</td>\n",
       "      <td>0.001599</td>\n",
       "      <td>120.247</td>\n",
       "    </tr>\n",
       "    <tr>\n",
       "      <th>523</th>\n",
       "      <td>10000</td>\n",
       "      <td>2.7</td>\n",
       "      <td>0.1524</td>\n",
       "      <td>71.3</td>\n",
       "      <td>0.002439</td>\n",
       "      <td>116.724</td>\n",
       "    </tr>\n",
       "    <tr>\n",
       "      <th>611</th>\n",
       "      <td>10000</td>\n",
       "      <td>7.2</td>\n",
       "      <td>0.1524</td>\n",
       "      <td>71.3</td>\n",
       "      <td>0.007520</td>\n",
       "      <td>110.313</td>\n",
       "    </tr>\n",
       "    <tr>\n",
       "      <th>736</th>\n",
       "      <td>10000</td>\n",
       "      <td>0.0</td>\n",
       "      <td>0.0508</td>\n",
       "      <td>71.3</td>\n",
       "      <td>0.000740</td>\n",
       "      <td>128.740</td>\n",
       "    </tr>\n",
       "    <tr>\n",
       "      <th>785</th>\n",
       "      <td>10000</td>\n",
       "      <td>4.2</td>\n",
       "      <td>0.0508</td>\n",
       "      <td>71.3</td>\n",
       "      <td>0.001428</td>\n",
       "      <td>121.238</td>\n",
       "    </tr>\n",
       "    <tr>\n",
       "      <th>968</th>\n",
       "      <td>10000</td>\n",
       "      <td>0.0</td>\n",
       "      <td>0.0254</td>\n",
       "      <td>71.3</td>\n",
       "      <td>0.000401</td>\n",
       "      <td>130.787</td>\n",
       "    </tr>\n",
       "    <tr>\n",
       "      <th>1014</th>\n",
       "      <td>10000</td>\n",
       "      <td>4.8</td>\n",
       "      <td>0.0254</td>\n",
       "      <td>71.3</td>\n",
       "      <td>0.000849</td>\n",
       "      <td>127.398</td>\n",
       "    </tr>\n",
       "    <tr>\n",
       "      <th>1129</th>\n",
       "      <td>10000</td>\n",
       "      <td>12.7</td>\n",
       "      <td>0.0254</td>\n",
       "      <td>71.3</td>\n",
       "      <td>0.012181</td>\n",
       "      <td>114.418</td>\n",
       "    </tr>\n",
       "    <tr>\n",
       "      <th>1252</th>\n",
       "      <td>10000</td>\n",
       "      <td>0.0</td>\n",
       "      <td>0.1016</td>\n",
       "      <td>71.3</td>\n",
       "      <td>0.001211</td>\n",
       "      <td>123.305</td>\n",
       "    </tr>\n",
       "    <tr>\n",
       "      <th>1305</th>\n",
       "      <td>10000</td>\n",
       "      <td>3.3</td>\n",
       "      <td>0.1016</td>\n",
       "      <td>71.3</td>\n",
       "      <td>0.002028</td>\n",
       "      <td>116.694</td>\n",
       "    </tr>\n",
       "  </tbody>\n",
       "</table>\n",
       "</div>"
      ],
      "text/plain": [
       "      Frequency   AoA   Chord  Velocity  Displacement      SPL\n",
       "11        10000   0.0  0.3048      71.3      0.002663  115.391\n",
       "77        10000   1.5  0.3048      71.3      0.003367  113.492\n",
       "111       10000   3.0  0.3048      71.3      0.004257  110.224\n",
       "172       10000   4.0  0.3048      71.3      0.004978  110.905\n",
       "197       10000   0.0  0.2286      71.3      0.002143  118.134\n",
       "257       10000   2.0  0.2286      71.3      0.002930  113.086\n",
       "312       10000   4.0  0.2286      71.3      0.004006  113.108\n",
       "374       10000   5.3  0.2286      71.3      0.005194  111.350\n",
       "465       10000   0.0  0.1524      71.3      0.001599  120.247\n",
       "523       10000   2.7  0.1524      71.3      0.002439  116.724\n",
       "611       10000   7.2  0.1524      71.3      0.007520  110.313\n",
       "736       10000   0.0  0.0508      71.3      0.000740  128.740\n",
       "785       10000   4.2  0.0508      71.3      0.001428  121.238\n",
       "968       10000   0.0  0.0254      71.3      0.000401  130.787\n",
       "1014      10000   4.8  0.0254      71.3      0.000849  127.398\n",
       "1129      10000  12.7  0.0254      71.3      0.012181  114.418\n",
       "1252      10000   0.0  0.1016      71.3      0.001211  123.305\n",
       "1305      10000   3.3  0.1016      71.3      0.002028  116.694"
      ]
     },
     "execution_count": 133,
     "metadata": {},
     "output_type": "execute_result"
    }
   ],
   "source": [
    "Vel_71_3=Fre_10000[Fre_10000['Velocity']==71.3]\n",
    "Vel_71_3"
   ]
  },
  {
   "cell_type": "code",
   "execution_count": 132,
   "metadata": {},
   "outputs": [
    {
     "data": {
      "text/plain": [
       "Text(0,0.5,'Sound Pressure Level')"
      ]
     },
     "execution_count": 132,
     "metadata": {},
     "output_type": "execute_result"
    },
    {
     "data": {
      "image/png": "[encoded data removed]",
      "text/plain": [
       "<matplotlib.figure.Figure at 0x1e9e0168a20>"
      ]
     },
     "metadata": {},
     "output_type": "display_data"
    }
   ],
   "source": [
    "plt.figure(figsize=(16,8))\n",
    "plt.subplot(1,2,1)\n",
    "plt.scatter(Vel_71_3['Velocity'], Vel_71_3['SPL'])\n",
    "plt.xlabel('Velocity')\n",
    "plt.ylabel('Sound Pressure Level')\n",
    "plt.subplot(1,2,2)\n",
    "plt.scatter(Vel_71_3['AoA'], Vel_71_3['SPL'])\n",
    "plt.xlabel('Angle of Attack')\n",
    "plt.ylabel('Sound Pressure Level')"
   ]
  },
  {
   "cell_type": "code",
   "execution_count": 117,
   "metadata": {},
   "outputs": [
    {
     "data": {
      "text/plain": [
       "<matplotlib.axes._subplots.AxesSubplot at 0x1e9dfd08c50>"
      ]
     },
     "execution_count": 117,
     "metadata": {},
     "output_type": "execute_result"
    },
    {
     "data": {
      "image/png": "[encoded data removed]",
      "text/plain": [
       "<matplotlib.figure.Figure at 0x1e9df2dea58>"
      ]
     },
     "metadata": {},
     "output_type": "display_data"
    }
   ],
   "source": [
    "corrmat = airfoil_df.corr()\n",
    "f, ax = plt.subplots(figsize=(10, 5))\n",
    "mask = np.zeros_like(corrmat, dtype=np.bool)\n",
    "mask[np.triu_indices_from(mask)] = True\n",
    "cmap = sns.diverging_palette(220, 1, as_cmap=True)\n",
    "# Draw the heatmap with the mask and correct aspect ratio\n",
    "sns.heatmap(corrmat, mask=mask, cmap=cmap, vmax=.3, center=0,\n",
    "            square=True, linewidths=.5, cbar_kws={\"shrink\": .5})"
   ]
  },
  {
   "cell_type": "code",
   "execution_count": 7,
   "metadata": {},
   "outputs": [],
   "source": [
    "X=airfoil_df[airfoil_df.columns[0:5]]"
   ]
  },
  {
   "cell_type": "code",
   "execution_count": 8,
   "metadata": {},
   "outputs": [
    {
     "data": {
      "text/html": [
       "<div>\n",
       "<style scoped>\n",
       "    .dataframe tbody tr th:only-of-type {\n",
       "        vertical-align: middle;\n",
       "    }\n",
       "\n",
       "    .dataframe tbody tr th {\n",
       "        vertical-align: top;\n",
       "    }\n",
       "\n",
       "    .dataframe thead th {\n",
       "        text-align: right;\n",
       "    }\n",
       "</style>\n",
       "<table border=\"1\" class=\"dataframe\">\n",
       "  <thead>\n",
       "    <tr style=\"text-align: right;\">\n",
       "      <th></th>\n",
       "      <th>Frequency</th>\n",
       "      <th>AoA</th>\n",
       "      <th>Chord</th>\n",
       "      <th>Velocity</th>\n",
       "      <th>Displacement</th>\n",
       "    </tr>\n",
       "  </thead>\n",
       "  <tbody>\n",
       "    <tr>\n",
       "      <th>0</th>\n",
       "      <td>800</td>\n",
       "      <td>0.0</td>\n",
       "      <td>0.3048</td>\n",
       "      <td>71.3</td>\n",
       "      <td>0.002663</td>\n",
       "    </tr>\n",
       "    <tr>\n",
       "      <th>1</th>\n",
       "      <td>1000</td>\n",
       "      <td>0.0</td>\n",
       "      <td>0.3048</td>\n",
       "      <td>71.3</td>\n",
       "      <td>0.002663</td>\n",
       "    </tr>\n",
       "    <tr>\n",
       "      <th>2</th>\n",
       "      <td>1250</td>\n",
       "      <td>0.0</td>\n",
       "      <td>0.3048</td>\n",
       "      <td>71.3</td>\n",
       "      <td>0.002663</td>\n",
       "    </tr>\n",
       "    <tr>\n",
       "      <th>3</th>\n",
       "      <td>1600</td>\n",
       "      <td>0.0</td>\n",
       "      <td>0.3048</td>\n",
       "      <td>71.3</td>\n",
       "      <td>0.002663</td>\n",
       "    </tr>\n",
       "    <tr>\n",
       "      <th>4</th>\n",
       "      <td>2000</td>\n",
       "      <td>0.0</td>\n",
       "      <td>0.3048</td>\n",
       "      <td>71.3</td>\n",
       "      <td>0.002663</td>\n",
       "    </tr>\n",
       "  </tbody>\n",
       "</table>\n",
       "</div>"
      ],
      "text/plain": [
       "   Frequency  AoA   Chord  Velocity  Displacement\n",
       "0        800  0.0  0.3048      71.3      0.002663\n",
       "1       1000  0.0  0.3048      71.3      0.002663\n",
       "2       1250  0.0  0.3048      71.3      0.002663\n",
       "3       1600  0.0  0.3048      71.3      0.002663\n",
       "4       2000  0.0  0.3048      71.3      0.002663"
      ]
     },
     "execution_count": 8,
     "metadata": {},
     "output_type": "execute_result"
    }
   ],
   "source": [
    "X.head()"
   ]
  },
  {
   "cell_type": "code",
   "execution_count": 186,
   "metadata": {},
   "outputs": [],
   "source": [
    "from sklearn.model_selection import train_test_split\n",
    "X_train, X_test, y_train, y_test=train_test_split(X,airfoil_df['SPL'], random_state=0)"
   ]
  },
  {
   "cell_type": "code",
   "execution_count": 187,
   "metadata": {},
   "outputs": [],
   "source": [
    "from sklearn.preprocessing import StandardScaler\n",
    "scaler=StandardScaler()\n",
    "scaler.fit(X_train)\n",
    "X_train=scaler.transform(X_train)\n",
    "scaler.fit(X_test)\n",
    "X_test=scaler.transform(X_test)\n"
   ]
  },
  {
   "cell_type": "code",
   "execution_count": 188,
   "metadata": {},
   "outputs": [
    {
     "data": {
      "text/plain": [
       "array([[-0.67786196,  2.14993545, -0.89845553,  1.29055377,  1.76991466],\n",
       "       [-0.61360127, -0.8160111 ,  1.00077161,  1.29055377, -0.6277841 ],\n",
       "       [-0.77425301,  0.50777295,  0.18681712, -0.72878703,  0.94073715],\n",
       "       ...,\n",
       "       [-0.5332754 ,  2.56885446, -1.1697737 ,  1.29055377,  0.79351403],\n",
       "       [-0.5332754 , -0.24628126,  0.18681712,  0.28406845, -0.51995604],\n",
       "       [-0.61360127,  0.50777295,  0.18681712, -1.23202969,  1.09032045]])"
      ]
     },
     "execution_count": 188,
     "metadata": {},
     "output_type": "execute_result"
    }
   ],
   "source": [
    "X_train"
   ]
  },
  {
   "cell_type": "code",
   "execution_count": 195,
   "metadata": {},
   "outputs": [
    {
     "data": {
      "text/plain": [
       "0.9304497675031633"
      ]
     },
     "execution_count": 195,
     "metadata": {},
     "output_type": "execute_result"
    }
   ],
   "source": [
    "from sklearn.neural_network import MLPRegressor\n",
    "mlp=MLPRegressor(solver='lbfgs', hidden_layer_sizes=(100,100,100), activation='relu', random_state=0).fit(X_train,y_train)\n",
    "mlp.score(X_train,y_train)\n"
   ]
  },
  {
   "cell_type": "code",
   "execution_count": 196,
   "metadata": {},
   "outputs": [
    {
     "data": {
      "text/plain": [
       "0.8808955205598457"
      ]
     },
     "execution_count": 196,
     "metadata": {},
     "output_type": "execute_result"
    }
   ],
   "source": [
    "mlp.score(X_test,y_test)"
   ]
  },
  {
   "cell_type": "code",
   "execution_count": 197,
   "metadata": {},
   "outputs": [],
   "source": [
    "mlp_predict=mlp.predict(X_test)\n",
    "Error=abs(mlp_predict-y_test)\n",
    "y_test_values=y_test.values"
   ]
  },
  {
   "cell_type": "code",
   "execution_count": 198,
   "metadata": {},
   "outputs": [
    {
     "data": {
      "text/html": [
       "<div>\n",
       "<style scoped>\n",
       "    .dataframe tbody tr th:only-of-type {\n",
       "        vertical-align: middle;\n",
       "    }\n",
       "\n",
       "    .dataframe tbody tr th {\n",
       "        vertical-align: top;\n",
       "    }\n",
       "\n",
       "    .dataframe thead th {\n",
       "        text-align: right;\n",
       "    }\n",
       "</style>\n",
       "<table border=\"1\" class=\"dataframe\">\n",
       "  <thead>\n",
       "    <tr style=\"text-align: right;\">\n",
       "      <th></th>\n",
       "      <th>mlp_predict</th>\n",
       "      <th>y_test</th>\n",
       "      <th>Error</th>\n",
       "    </tr>\n",
       "  </thead>\n",
       "  <tbody>\n",
       "    <tr>\n",
       "      <th>0</th>\n",
       "      <td>135.312859</td>\n",
       "      <td>130.787</td>\n",
       "      <td>4.525859</td>\n",
       "    </tr>\n",
       "    <tr>\n",
       "      <th>1</th>\n",
       "      <td>118.862641</td>\n",
       "      <td>119.541</td>\n",
       "      <td>0.678359</td>\n",
       "    </tr>\n",
       "    <tr>\n",
       "      <th>2</th>\n",
       "      <td>112.130457</td>\n",
       "      <td>110.317</td>\n",
       "      <td>1.813457</td>\n",
       "    </tr>\n",
       "    <tr>\n",
       "      <th>3</th>\n",
       "      <td>120.574960</td>\n",
       "      <td>117.396</td>\n",
       "      <td>3.178960</td>\n",
       "    </tr>\n",
       "    <tr>\n",
       "      <th>4</th>\n",
       "      <td>124.892423</td>\n",
       "      <td>127.625</td>\n",
       "      <td>2.732577</td>\n",
       "    </tr>\n",
       "  </tbody>\n",
       "</table>\n",
       "</div>"
      ],
      "text/plain": [
       "   mlp_predict   y_test     Error\n",
       "0   135.312859  130.787  4.525859\n",
       "1   118.862641  119.541  0.678359\n",
       "2   112.130457  110.317  1.813457\n",
       "3   120.574960  117.396  3.178960\n",
       "4   124.892423  127.625  2.732577"
      ]
     },
     "execution_count": 198,
     "metadata": {},
     "output_type": "execute_result"
    }
   ],
   "source": [
    "Compare_Data=pd.DataFrame( data=np.c_[mlp_predict,y_test.values, Error] ,\n",
    "                          columns=['mlp_predict', 'y_test', 'Error' ])\n",
    "Compare_Data.head()"
   ]
  },
  {
   "cell_type": "code",
   "execution_count": 228,
   "metadata": {},
   "outputs": [
    {
     "data": {
      "text/plain": [
       "[<matplotlib.lines.Line2D at 0x1e9e560beb8>]"
      ]
     },
     "execution_count": 228,
     "metadata": {},
     "output_type": "execute_result"
    },
    {
     "data": {
      "image/png": "[encoded data removed]",
      "text/plain": [
       "<matplotlib.figure.Figure at 0x1e9e5a48128>"
      ]
     },
     "metadata": {},
     "output_type": "display_data"
    }
   ],
   "source": [
    "plt.figure(figsize=(8,8))\n",
    "plt.scatter(y_test,mlp_predict)\n",
    "plt.xlabel('y_test')\n",
    "plt.ylabel('y_prediction')\n",
    "plt.plot(x,x, 'r')\n"
   ]
  }
 ],
 "metadata": {
  "kernelspec": {
   "display_name": "Python 3",
   "language": "python",
   "name": "python3"
  },
  "language_info": {
   "codemirror_mode": {
    "name": "ipython",
    "version": 3
   },
   "file_extension": ".py",
   "mimetype": "text/x-python",
   "name": "python",
   "nbconvert_exporter": "python",
   "pygments_lexer": "ipython3",
   "version": "3.6.4"
  }
 },
 "nbformat": 4,
 "nbformat_minor": 2
}
